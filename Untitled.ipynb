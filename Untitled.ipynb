{
 "cells": [
  {
   "cell_type": "code",
   "execution_count": 2,
   "id": "b3def48d-fe69-4b77-9f2b-0c802280d9d9",
   "metadata": {},
   "outputs": [],
   "source": [
    "import pandas as pd\n",
    "import numpy as np\n",
    "import matplotlib.pyplot as plt\n",
    "import seaborn as sns\n",
    "%matplotlib inline"
   ]
  },
  {
   "cell_type": "markdown",
   "id": "e4b0c7f3-bc55-4354-970f-7df8ed7d20af",
   "metadata": {},
   "source": [
    "#### Read the data\n",
    "- fetch csv from archive"
   ]
  },
  {
   "cell_type": "code",
   "execution_count": null,
   "id": "5479fdd3-811e-4fb1-a9bc-7b466e8655cb",
   "metadata": {},
   "outputs": [],
   "source": [
    "train = pd.read_csv('archive\\titanice')"
   ]
  }
 ],
 "metadata": {
  "kernelspec": {
   "display_name": "Python 3 (ipykernel)",
   "language": "python",
   "name": "python3"
  },
  "language_info": {
   "codemirror_mode": {
    "name": "ipython",
    "version": 3
   },
   "file_extension": ".py",
   "mimetype": "text/x-python",
   "name": "python",
   "nbconvert_exporter": "python",
   "pygments_lexer": "ipython3",
   "version": "3.12.12"
  }
 },
 "nbformat": 4,
 "nbformat_minor": 5
}
