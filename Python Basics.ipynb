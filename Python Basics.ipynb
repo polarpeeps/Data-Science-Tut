{
 "cells": [
  {
   "cell_type": "code",
   "execution_count": 5,
   "id": "cc3ce4fa-c0fd-4de1-8fd2-9a5ea3acc6dc",
   "metadata": {},
   "outputs": [
    {
     "name": "stdout",
     "output_type": "stream",
     "text": [
      "3.143\n"
     ]
    }
   ],
   "source": [
    "pi = 3.142543433\n",
    "print(f\"{pi:.3f}\")"
   ]
  },
  {
   "cell_type": "code",
   "execution_count": 6,
   "id": "3a42cbf6-953c-4769-90c6-d3c1b226cd8d",
   "metadata": {},
   "outputs": [],
   "source": [
    "et= {1,2,3}"
   ]
  },
  {
   "cell_type": "code",
   "execution_count": 7,
   "id": "869d2dac-1289-4786-8bcd-d346b45fb539",
   "metadata": {},
   "outputs": [
    {
     "data": {
      "text/plain": [
       "{1, 2, 3}"
      ]
     },
     "execution_count": 7,
     "metadata": {},
     "output_type": "execute_result"
    }
   ],
   "source": [
    "et"
   ]
  },
  {
   "cell_type": "code",
   "execution_count": 9,
   "id": "2407b670-f318-4469-940e-5888206902ca",
   "metadata": {},
   "outputs": [
    {
     "ename": "TypeError",
     "evalue": "'set' object is not subscriptable",
     "output_type": "error",
     "traceback": [
      "\u001b[1;31m---------------------------------------------------------------------------\u001b[0m",
      "\u001b[1;31mTypeError\u001b[0m                                 Traceback (most recent call last)",
      "Cell \u001b[1;32mIn[9], line 1\u001b[0m\n\u001b[1;32m----> 1\u001b[0m et[\u001b[38;5;124m\"\u001b[39m\u001b[38;5;124m1\u001b[39m\u001b[38;5;124m\"\u001b[39m]\n",
      "\u001b[1;31mTypeError\u001b[0m: 'set' object is not subscriptable"
     ]
    }
   ],
   "source": [
    "et[\"1\"]\n"
   ]
  },
  {
   "cell_type": "code",
   "execution_count": 10,
   "id": "81a00681-d7ac-4195-94a3-36a1a1ec7ec7",
   "metadata": {},
   "outputs": [],
   "source": [
    "lst = list(et)"
   ]
  },
  {
   "cell_type": "code",
   "execution_count": 11,
   "id": "7d866434-4435-47e9-b8e5-e1b197ae6ed1",
   "metadata": {},
   "outputs": [
    {
     "data": {
      "text/plain": [
       "[1, 2, 3]"
      ]
     },
     "execution_count": 11,
     "metadata": {},
     "output_type": "execute_result"
    }
   ],
   "source": [
    "lst\n"
   ]
  },
  {
   "cell_type": "code",
   "execution_count": 12,
   "id": "a5bcd3c5-09dd-4105-be24-3d540a3bb296",
   "metadata": {},
   "outputs": [],
   "source": [
    "eft = [et]"
   ]
  },
  {
   "cell_type": "code",
   "execution_count": 13,
   "id": "928b1c60-e89f-4e91-b445-3b45d0271bb7",
   "metadata": {},
   "outputs": [
    {
     "data": {
      "text/plain": [
       "[{1, 2, 3}]"
      ]
     },
     "execution_count": 13,
     "metadata": {},
     "output_type": "execute_result"
    }
   ],
   "source": [
    "eft"
   ]
  },
  {
   "cell_type": "code",
   "execution_count": 14,
   "id": "abd72c3f-e8fa-49be-81cb-9828aa1c3990",
   "metadata": {},
   "outputs": [
    {
     "ename": "TypeError",
     "evalue": "'set' object is not subscriptable",
     "output_type": "error",
     "traceback": [
      "\u001b[1;31m---------------------------------------------------------------------------\u001b[0m",
      "\u001b[1;31mTypeError\u001b[0m                                 Traceback (most recent call last)",
      "Cell \u001b[1;32mIn[14], line 1\u001b[0m\n\u001b[1;32m----> 1\u001b[0m eft[\u001b[38;5;241m0\u001b[39m][\u001b[38;5;241m1\u001b[39m]\n",
      "\u001b[1;31mTypeError\u001b[0m: 'set' object is not subscriptable"
     ]
    }
   ],
   "source": [
    "eft[0][1]"
   ]
  },
  {
   "cell_type": "code",
   "execution_count": 15,
   "id": "c4c5eb02-a12f-40a0-9031-574079c80e25",
   "metadata": {},
   "outputs": [],
   "source": [
    "my_dict = {\"inp\":\"Output\", \"two\":\"three\"}"
   ]
  },
  {
   "cell_type": "code",
   "execution_count": 16,
   "id": "e149340d-14e9-4c1d-8029-df9a929d6a15",
   "metadata": {},
   "outputs": [
    {
     "data": {
      "text/plain": [
       "{'inp': 'Output', 'two': 'three'}"
      ]
     },
     "execution_count": 16,
     "metadata": {},
     "output_type": "execute_result"
    }
   ],
   "source": [
    "my_dict"
   ]
  },
  {
   "cell_type": "code",
   "execution_count": 19,
   "id": "0fd483b5-425e-4079-beeb-8c79e9fa4c9e",
   "metadata": {},
   "outputs": [
    {
     "name": "stdout",
     "output_type": "stream",
     "text": [
      "inp\n",
      "two\n"
     ]
    }
   ],
   "source": [
    "for x in my_dict:\n",
    "    print(x)"
   ]
  },
  {
   "cell_type": "code",
   "execution_count": 20,
   "id": "620e8086-2bad-421d-b58d-47dde62b2e2d",
   "metadata": {},
   "outputs": [
    {
     "name": "stdout",
     "output_type": "stream",
     "text": [
      "Output\n",
      "three\n"
     ]
    }
   ],
   "source": [
    "for x in my_dict.values():\n",
    "    print(x)"
   ]
  },
  {
   "cell_type": "code",
   "execution_count": 21,
   "id": "81c440d6-4832-4861-8c3d-4d6b5d2f29f7",
   "metadata": {},
   "outputs": [
    {
     "name": "stdout",
     "output_type": "stream",
     "text": [
      "('inp', 'Output')\n",
      "('two', 'three')\n"
     ]
    }
   ],
   "source": [
    "for x in my_dict.items():\n",
    "    print(x)"
   ]
  },
  {
   "cell_type": "code",
   "execution_count": 22,
   "id": "ec170e10-f1c8-4a00-99bc-7c1748325b41",
   "metadata": {},
   "outputs": [],
   "source": [
    "my_dict[\"ev\"] = \"cev\""
   ]
  },
  {
   "cell_type": "code",
   "execution_count": 25,
   "id": "9d19a2ad-f3d6-4c3e-abda-7b638c98cc16",
   "metadata": {},
   "outputs": [
    {
     "data": {
      "text/plain": [
       "{'inp': 'Output', 'two': 'three', 'ev': 'cev'}"
      ]
     },
     "execution_count": 25,
     "metadata": {},
     "output_type": "execute_result"
    }
   ],
   "source": [
    "my_dict"
   ]
  },
  {
   "cell_type": "code",
   "execution_count": 27,
   "id": "ff1ea059-9bfa-45e2-b354-b3d1752db87c",
   "metadata": {},
   "outputs": [],
   "source": [
    "my_dict[\"ev\"] = \"cecsv\""
   ]
  },
  {
   "cell_type": "code",
   "execution_count": 28,
   "id": "00612e66-8786-4bb2-8802-eccd557849ef",
   "metadata": {},
   "outputs": [
    {
     "data": {
      "text/plain": [
       "{'inp': 'Output', 'two': 'three', 'ev': 'cecsv'}"
      ]
     },
     "execution_count": 28,
     "metadata": {},
     "output_type": "execute_result"
    }
   ],
   "source": [
    "my_dict\n"
   ]
  },
  {
   "cell_type": "code",
   "execution_count": null,
   "id": "7e5e8bbf-d7f1-4bc1-a1f1-26d0d260681d",
   "metadata": {},
   "outputs": [],
   "source": []
  }
 ],
 "metadata": {
  "kernelspec": {
   "display_name": "Python 3 (ipykernel)",
   "language": "python",
   "name": "python3"
  },
  "language_info": {
   "codemirror_mode": {
    "name": "ipython",
    "version": 3
   },
   "file_extension": ".py",
   "mimetype": "text/x-python",
   "name": "python",
   "nbconvert_exporter": "python",
   "pygments_lexer": "ipython3",
   "version": "3.13.5"
  }
 },
 "nbformat": 4,
 "nbformat_minor": 5
}
